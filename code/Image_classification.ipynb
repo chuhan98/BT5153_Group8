{
 "cells": [
  {
   "cell_type": "code",
   "execution_count": null,
   "metadata": {
    "colab": {
     "base_uri": "https://localhost:8080/"
    },
    "id": "g96mHMj2iSk2",
    "outputId": "0f5d3300-e864-4cce-dd7e-3b8b81cc9ae5"
   },
   "outputs": [
    {
     "name": "stdout",
     "output_type": "stream",
     "text": [
      "Drive already mounted at /content/drive; to attempt to forcibly remount, call drive.mount(\"/content/drive\", force_remount=True).\n"
     ]
    }
   ],
   "source": [
    "from google.colab import drive\n",
    "drive.mount('/content/drive')"
   ]
  },
  {
   "cell_type": "code",
   "execution_count": null,
   "metadata": {
    "id": "VNag6gsYimDo"
   },
   "outputs": [],
   "source": [
    "import os\n",
    "os.chdir(\"/content/drive/MyDrive/5153\")"
   ]
  },
  {
   "cell_type": "code",
   "execution_count": null,
   "metadata": {
    "colab": {
     "base_uri": "https://localhost:8080/",
     "height": 232
    },
    "id": "jlvsOWmNi-hE",
    "outputId": "8091323e-6662-49db-9c11-6822e6de0cc0"
   },
   "outputs": [
    {
     "data": {
      "text/html": [
       "\n",
       "  <div id=\"df-08a956ac-8e39-4099-b38f-e2c17fa0a472\">\n",
       "    <div class=\"colab-df-container\">\n",
       "      <div>\n",
       "<style scoped>\n",
       "    .dataframe tbody tr th:only-of-type {\n",
       "        vertical-align: middle;\n",
       "    }\n",
       "\n",
       "    .dataframe tbody tr th {\n",
       "        vertical-align: top;\n",
       "    }\n",
       "\n",
       "    .dataframe thead th {\n",
       "        text-align: right;\n",
       "    }\n",
       "</style>\n",
       "<table border=\"1\" class=\"dataframe\">\n",
       "  <thead>\n",
       "    <tr style=\"text-align: right;\">\n",
       "      <th></th>\n",
       "      <th>id</th>\n",
       "      <th>tconst</th>\n",
       "      <th>titleType</th>\n",
       "      <th>primaryTitle</th>\n",
       "      <th>originalTitle</th>\n",
       "      <th>startYear</th>\n",
       "      <th>release_date</th>\n",
       "      <th>isAdult</th>\n",
       "      <th>genres</th>\n",
       "      <th>runtime</th>\n",
       "      <th>budget</th>\n",
       "      <th>original_language</th>\n",
       "      <th>overview</th>\n",
       "      <th>popularity</th>\n",
       "      <th>poster_path</th>\n",
       "      <th>production_companies</th>\n",
       "      <th>production_countries</th>\n",
       "      <th>revenue</th>\n",
       "      <th>status</th>\n",
       "      <th>vote_average</th>\n",
       "      <th>vote_count</th>\n",
       "      <th>averageRating</th>\n",
       "      <th>numVotes</th>\n",
       "      <th>director</th>\n",
       "      <th>actor</th>\n",
       "    </tr>\n",
       "  </thead>\n",
       "  <tbody>\n",
       "    <tr>\n",
       "      <th>0</th>\n",
       "      <td>16612</td>\n",
       "      <td>tt0000001</td>\n",
       "      <td>short</td>\n",
       "      <td>Carmencita</td>\n",
       "      <td>Carmencita</td>\n",
       "      <td>1894.0</td>\n",
       "      <td>1894-03-14</td>\n",
       "      <td>0</td>\n",
       "      <td>Documentary,Short</td>\n",
       "      <td>1.0</td>\n",
       "      <td>0</td>\n",
       "      <td>en</td>\n",
       "      <td>The first woman to appear in front of an Ediso...</td>\n",
       "      <td>1.273072</td>\n",
       "      <td>/6QJowxF4f2hrUtmrDXOqbRDMdDH.jpg</td>\n",
       "      <td>Edison Manufacturing Company</td>\n",
       "      <td>US</td>\n",
       "      <td>0.0</td>\n",
       "      <td>Released</td>\n",
       "      <td>4.9</td>\n",
       "      <td>18.0</td>\n",
       "      <td>5.6</td>\n",
       "      <td>1550.0</td>\n",
       "      <td>William K.L. Dickson</td>\n",
       "      <td>Carmencita</td>\n",
       "    </tr>\n",
       "  </tbody>\n",
       "</table>\n",
       "</div>\n",
       "      <button class=\"colab-df-convert\" onclick=\"convertToInteractive('df-08a956ac-8e39-4099-b38f-e2c17fa0a472')\"\n",
       "              title=\"Convert this dataframe to an interactive table.\"\n",
       "              style=\"display:none;\">\n",
       "        \n",
       "  <svg xmlns=\"http://www.w3.org/2000/svg\" height=\"24px\"viewBox=\"0 0 24 24\"\n",
       "       width=\"24px\">\n",
       "    <path d=\"M0 0h24v24H0V0z\" fill=\"none\"/>\n",
       "    <path d=\"M18.56 5.44l.94 2.06.94-2.06 2.06-.94-2.06-.94-.94-2.06-.94 2.06-2.06.94zm-11 1L8.5 8.5l.94-2.06 2.06-.94-2.06-.94L8.5 2.5l-.94 2.06-2.06.94zm10 10l.94 2.06.94-2.06 2.06-.94-2.06-.94-.94-2.06-.94 2.06-2.06.94z\"/><path d=\"M17.41 7.96l-1.37-1.37c-.4-.4-.92-.59-1.43-.59-.52 0-1.04.2-1.43.59L10.3 9.45l-7.72 7.72c-.78.78-.78 2.05 0 2.83L4 21.41c.39.39.9.59 1.41.59.51 0 1.02-.2 1.41-.59l7.78-7.78 2.81-2.81c.8-.78.8-2.07 0-2.86zM5.41 20L4 18.59l7.72-7.72 1.47 1.35L5.41 20z\"/>\n",
       "  </svg>\n",
       "      </button>\n",
       "      \n",
       "  <style>\n",
       "    .colab-df-container {\n",
       "      display:flex;\n",
       "      flex-wrap:wrap;\n",
       "      gap: 12px;\n",
       "    }\n",
       "\n",
       "    .colab-df-convert {\n",
       "      background-color: #E8F0FE;\n",
       "      border: none;\n",
       "      border-radius: 50%;\n",
       "      cursor: pointer;\n",
       "      display: none;\n",
       "      fill: #1967D2;\n",
       "      height: 32px;\n",
       "      padding: 0 0 0 0;\n",
       "      width: 32px;\n",
       "    }\n",
       "\n",
       "    .colab-df-convert:hover {\n",
       "      background-color: #E2EBFA;\n",
       "      box-shadow: 0px 1px 2px rgba(60, 64, 67, 0.3), 0px 1px 3px 1px rgba(60, 64, 67, 0.15);\n",
       "      fill: #174EA6;\n",
       "    }\n",
       "\n",
       "    [theme=dark] .colab-df-convert {\n",
       "      background-color: #3B4455;\n",
       "      fill: #D2E3FC;\n",
       "    }\n",
       "\n",
       "    [theme=dark] .colab-df-convert:hover {\n",
       "      background-color: #434B5C;\n",
       "      box-shadow: 0px 1px 3px 1px rgba(0, 0, 0, 0.15);\n",
       "      filter: drop-shadow(0px 1px 2px rgba(0, 0, 0, 0.3));\n",
       "      fill: #FFFFFF;\n",
       "    }\n",
       "  </style>\n",
       "\n",
       "      <script>\n",
       "        const buttonEl =\n",
       "          document.querySelector('#df-08a956ac-8e39-4099-b38f-e2c17fa0a472 button.colab-df-convert');\n",
       "        buttonEl.style.display =\n",
       "          google.colab.kernel.accessAllowed ? 'block' : 'none';\n",
       "\n",
       "        async function convertToInteractive(key) {\n",
       "          const element = document.querySelector('#df-08a956ac-8e39-4099-b38f-e2c17fa0a472');\n",
       "          const dataTable =\n",
       "            await google.colab.kernel.invokeFunction('convertToInteractive',\n",
       "                                                     [key], {});\n",
       "          if (!dataTable) return;\n",
       "\n",
       "          const docLinkHtml = 'Like what you see? Visit the ' +\n",
       "            '<a target=\"_blank\" href=https://colab.research.google.com/notebooks/data_table.ipynb>data table notebook</a>'\n",
       "            + ' to learn more about interactive tables.';\n",
       "          element.innerHTML = '';\n",
       "          dataTable['output_type'] = 'display_data';\n",
       "          await google.colab.output.renderOutput(dataTable, element);\n",
       "          const docLink = document.createElement('div');\n",
       "          docLink.innerHTML = docLinkHtml;\n",
       "          element.appendChild(docLink);\n",
       "        }\n",
       "      </script>\n",
       "    </div>\n",
       "  </div>\n",
       "  "
      ],
      "text/plain": [
       "      id     tconst titleType primaryTitle originalTitle  startYear  \\\n",
       "0  16612  tt0000001     short   Carmencita    Carmencita     1894.0   \n",
       "\n",
       "  release_date  isAdult             genres  runtime  budget original_language  \\\n",
       "0   1894-03-14        0  Documentary,Short      1.0       0                en   \n",
       "\n",
       "                                            overview  popularity  \\\n",
       "0  The first woman to appear in front of an Ediso...    1.273072   \n",
       "\n",
       "                        poster_path          production_companies  \\\n",
       "0  /6QJowxF4f2hrUtmrDXOqbRDMdDH.jpg  Edison Manufacturing Company   \n",
       "\n",
       "  production_countries  revenue    status  vote_average  vote_count  \\\n",
       "0                   US      0.0  Released           4.9        18.0   \n",
       "\n",
       "   averageRating  numVotes               director       actor  \n",
       "0            5.6    1550.0  William K.L. Dickson   Carmencita  "
      ]
     },
     "execution_count": 3,
     "metadata": {},
     "output_type": "execute_result"
    }
   ],
   "source": [
    "import numpy as np\n",
    "import pandas as pd\n",
    "pd.set_option('display.max_columns', None)\n",
    "df = pd.read_csv('movie_variable_full.csv')\n",
    "df.head(1)"
   ]
  },
  {
   "cell_type": "code",
   "execution_count": null,
   "metadata": {
    "id": "ygLegjOSkkCY"
   },
   "outputs": [],
   "source": [
    "import cv2\n",
    "from google.colab.patches import cv2_imshow"
   ]
  },
  {
   "cell_type": "code",
   "execution_count": null,
   "metadata": {
    "colab": {
     "base_uri": "https://localhost:8080/"
    },
    "id": "jLOX6QGsrtyY",
    "outputId": "c9f211ec-e86a-4f4d-bbec-519f04286b37"
   },
   "outputs": [
    {
     "data": {
      "text/plain": [
       "45307"
      ]
     },
     "execution_count": 5,
     "metadata": {},
     "output_type": "execute_result"
    }
   ],
   "source": [
    "len(df)"
   ]
  },
  {
   "cell_type": "markdown",
   "metadata": {},
   "source": [
    "# Download poster data through URL"
   ]
  },
  {
   "cell_type": "code",
   "execution_count": null,
   "metadata": {
    "colab": {
     "base_uri": "https://localhost:8080/"
    },
    "id": "w70GCS5IjP7J",
    "outputId": "309af88d-e8af-4c3b-b2b3-21e05a76258c"
   },
   "outputs": [
    {
     "name": "stdout",
     "output_type": "stream",
     "text": [
      "15000 done.\n",
      "20000 done.\n",
      "25000 done.\n",
      "30000 done.\n",
      "35000 done.\n",
      "40000 done.\n",
      "45000 done.\n"
     ]
    }
   ],
   "source": [
    "poster_L = df.poster_path.values\n",
    "id_L = df.id.values\n",
    "for i in range(13557, len(df)):\n",
    "  if (i+1)%5000 == 0:\n",
    "    print(i+1, 'done.')\n",
    "  img_src = 'https://image.tmdb.org/t/p/w200' + poster_L[i]\n",
    "  ID = id_L[i]\n",
    "  cap = cv2.VideoCapture(img_src)\n",
    "  if( cap.isOpened() ) :\n",
    "      ret,img = cap.read()\n",
    "      cv2.imwrite(\"./poster/\" + str(ID) + \".png\", img)"
   ]
  },
  {
   "cell_type": "code",
   "execution_count": null,
   "metadata": {
    "colab": {
     "base_uri": "https://localhost:8080/"
    },
    "id": "_luo7oJ6sYcl",
    "outputId": "03ee11e7-f78d-40a9-8783-ceb84181c008"
   },
   "outputs": [
    {
     "data": {
      "text/plain": [
       "5713"
      ]
     },
     "execution_count": 5,
     "metadata": {},
     "output_type": "execute_result"
    }
   ],
   "source": [
    "files= os.listdir('./poster')\n",
    "len(files)"
   ]
  },
  {
   "cell_type": "code",
   "execution_count": null,
   "metadata": {
    "id": "1uOLnnOPGHnb"
   },
   "outputs": [],
   "source": [
    "d = df.copy()\n",
    "pic = [int(i[:-4]) for i in files]\n",
    "d = d[d['id'].isin(pic)]\n",
    "d.sort_values('id',inplace = True)\n",
    "d.set_index('id',inplace = True)\n",
    "# d.to_csv('poster_data.csv')"
   ]
  },
  {
   "cell_type": "code",
   "execution_count": null,
   "metadata": {
    "colab": {
     "base_uri": "https://localhost:8080/",
     "height": 206
    },
    "id": "mxivy4zS4A4Z",
    "outputId": "02998d7a-4d3d-4689-e291-14f13911f5b1"
   },
   "outputs": [
    {
     "data": {
      "text/html": [
       "\n",
       "  <div id=\"df-94dc788b-75bd-4e80-b9bb-d602020eae36\">\n",
       "    <div class=\"colab-df-container\">\n",
       "      <div>\n",
       "<style scoped>\n",
       "    .dataframe tbody tr th:only-of-type {\n",
       "        vertical-align: middle;\n",
       "    }\n",
       "\n",
       "    .dataframe tbody tr th {\n",
       "        vertical-align: top;\n",
       "    }\n",
       "\n",
       "    .dataframe thead th {\n",
       "        text-align: right;\n",
       "    }\n",
       "</style>\n",
       "<table border=\"1\" class=\"dataframe\">\n",
       "  <thead>\n",
       "    <tr style=\"text-align: right;\">\n",
       "      <th></th>\n",
       "      <th>id</th>\n",
       "      <th>averageRating</th>\n",
       "    </tr>\n",
       "  </thead>\n",
       "  <tbody>\n",
       "    <tr>\n",
       "      <th>0</th>\n",
       "      <td>16612</td>\n",
       "      <td>5.6</td>\n",
       "    </tr>\n",
       "    <tr>\n",
       "      <th>1</th>\n",
       "      <td>88013</td>\n",
       "      <td>6.5</td>\n",
       "    </tr>\n",
       "    <tr>\n",
       "      <th>2</th>\n",
       "      <td>16624</td>\n",
       "      <td>6.1</td>\n",
       "    </tr>\n",
       "    <tr>\n",
       "      <th>3</th>\n",
       "      <td>105158</td>\n",
       "      <td>5.4</td>\n",
       "    </tr>\n",
       "    <tr>\n",
       "      <th>4</th>\n",
       "      <td>774</td>\n",
       "      <td>6.9</td>\n",
       "    </tr>\n",
       "  </tbody>\n",
       "</table>\n",
       "</div>\n",
       "      <button class=\"colab-df-convert\" onclick=\"convertToInteractive('df-94dc788b-75bd-4e80-b9bb-d602020eae36')\"\n",
       "              title=\"Convert this dataframe to an interactive table.\"\n",
       "              style=\"display:none;\">\n",
       "        \n",
       "  <svg xmlns=\"http://www.w3.org/2000/svg\" height=\"24px\"viewBox=\"0 0 24 24\"\n",
       "       width=\"24px\">\n",
       "    <path d=\"M0 0h24v24H0V0z\" fill=\"none\"/>\n",
       "    <path d=\"M18.56 5.44l.94 2.06.94-2.06 2.06-.94-2.06-.94-.94-2.06-.94 2.06-2.06.94zm-11 1L8.5 8.5l.94-2.06 2.06-.94-2.06-.94L8.5 2.5l-.94 2.06-2.06.94zm10 10l.94 2.06.94-2.06 2.06-.94-2.06-.94-.94-2.06-.94 2.06-2.06.94z\"/><path d=\"M17.41 7.96l-1.37-1.37c-.4-.4-.92-.59-1.43-.59-.52 0-1.04.2-1.43.59L10.3 9.45l-7.72 7.72c-.78.78-.78 2.05 0 2.83L4 21.41c.39.39.9.59 1.41.59.51 0 1.02-.2 1.41-.59l7.78-7.78 2.81-2.81c.8-.78.8-2.07 0-2.86zM5.41 20L4 18.59l7.72-7.72 1.47 1.35L5.41 20z\"/>\n",
       "  </svg>\n",
       "      </button>\n",
       "      \n",
       "  <style>\n",
       "    .colab-df-container {\n",
       "      display:flex;\n",
       "      flex-wrap:wrap;\n",
       "      gap: 12px;\n",
       "    }\n",
       "\n",
       "    .colab-df-convert {\n",
       "      background-color: #E8F0FE;\n",
       "      border: none;\n",
       "      border-radius: 50%;\n",
       "      cursor: pointer;\n",
       "      display: none;\n",
       "      fill: #1967D2;\n",
       "      height: 32px;\n",
       "      padding: 0 0 0 0;\n",
       "      width: 32px;\n",
       "    }\n",
       "\n",
       "    .colab-df-convert:hover {\n",
       "      background-color: #E2EBFA;\n",
       "      box-shadow: 0px 1px 2px rgba(60, 64, 67, 0.3), 0px 1px 3px 1px rgba(60, 64, 67, 0.15);\n",
       "      fill: #174EA6;\n",
       "    }\n",
       "\n",
       "    [theme=dark] .colab-df-convert {\n",
       "      background-color: #3B4455;\n",
       "      fill: #D2E3FC;\n",
       "    }\n",
       "\n",
       "    [theme=dark] .colab-df-convert:hover {\n",
       "      background-color: #434B5C;\n",
       "      box-shadow: 0px 1px 3px 1px rgba(0, 0, 0, 0.15);\n",
       "      filter: drop-shadow(0px 1px 2px rgba(0, 0, 0, 0.3));\n",
       "      fill: #FFFFFF;\n",
       "    }\n",
       "  </style>\n",
       "\n",
       "      <script>\n",
       "        const buttonEl =\n",
       "          document.querySelector('#df-94dc788b-75bd-4e80-b9bb-d602020eae36 button.colab-df-convert');\n",
       "        buttonEl.style.display =\n",
       "          google.colab.kernel.accessAllowed ? 'block' : 'none';\n",
       "\n",
       "        async function convertToInteractive(key) {\n",
       "          const element = document.querySelector('#df-94dc788b-75bd-4e80-b9bb-d602020eae36');\n",
       "          const dataTable =\n",
       "            await google.colab.kernel.invokeFunction('convertToInteractive',\n",
       "                                                     [key], {});\n",
       "          if (!dataTable) return;\n",
       "\n",
       "          const docLinkHtml = 'Like what you see? Visit the ' +\n",
       "            '<a target=\"_blank\" href=https://colab.research.google.com/notebooks/data_table.ipynb>data table notebook</a>'\n",
       "            + ' to learn more about interactive tables.';\n",
       "          element.innerHTML = '';\n",
       "          dataTable['output_type'] = 'display_data';\n",
       "          await google.colab.output.renderOutput(dataTable, element);\n",
       "          const docLink = document.createElement('div');\n",
       "          docLink.innerHTML = docLinkHtml;\n",
       "          element.appendChild(docLink);\n",
       "        }\n",
       "      </script>\n",
       "    </div>\n",
       "  </div>\n",
       "  "
      ],
      "text/plain": [
       "       id  averageRating\n",
       "0   16612            5.6\n",
       "1   88013            6.5\n",
       "2   16624            6.1\n",
       "3  105158            5.4\n",
       "4     774            6.9"
      ]
     },
     "execution_count": 6,
     "metadata": {},
     "output_type": "execute_result"
    }
   ],
   "source": [
    "data = df[['id','averageRating']].copy()\n",
    "data.head()"
   ]
  },
  {
   "cell_type": "code",
   "execution_count": null,
   "metadata": {
    "colab": {
     "base_uri": "https://localhost:8080/",
     "height": 324
    },
    "id": "tODqZeGy4M8x",
    "outputId": "cff6b33c-e3fb-4f88-dd96-63f9f59caf1a"
   },
   "outputs": [
    {
     "name": "stderr",
     "output_type": "stream",
     "text": [
      "/usr/local/lib/python3.7/dist-packages/pandas/util/_decorators.py:311: SettingWithCopyWarning: \n",
      "A value is trying to be set on a copy of a slice from a DataFrame\n",
      "\n",
      "See the caveats in the documentation: https://pandas.pydata.org/pandas-docs/stable/user_guide/indexing.html#returning-a-view-versus-a-copy\n",
      "  return func(*args, **kwargs)\n"
     ]
    },
    {
     "data": {
      "text/html": [
       "\n",
       "  <div id=\"df-da4db122-e8de-4187-a638-361c91edc39f\">\n",
       "    <div class=\"colab-df-container\">\n",
       "      <div>\n",
       "<style scoped>\n",
       "    .dataframe tbody tr th:only-of-type {\n",
       "        vertical-align: middle;\n",
       "    }\n",
       "\n",
       "    .dataframe tbody tr th {\n",
       "        vertical-align: top;\n",
       "    }\n",
       "\n",
       "    .dataframe thead th {\n",
       "        text-align: right;\n",
       "    }\n",
       "</style>\n",
       "<table border=\"1\" class=\"dataframe\">\n",
       "  <thead>\n",
       "    <tr style=\"text-align: right;\">\n",
       "      <th></th>\n",
       "      <th>averageRating</th>\n",
       "    </tr>\n",
       "    <tr>\n",
       "      <th>id</th>\n",
       "      <th></th>\n",
       "    </tr>\n",
       "  </thead>\n",
       "  <tbody>\n",
       "    <tr>\n",
       "      <th>67</th>\n",
       "      <td>7.4</td>\n",
       "    </tr>\n",
       "    <tr>\n",
       "      <th>76</th>\n",
       "      <td>8.1</td>\n",
       "    </tr>\n",
       "    <tr>\n",
       "      <th>80</th>\n",
       "      <td>8.0</td>\n",
       "    </tr>\n",
       "    <tr>\n",
       "      <th>92</th>\n",
       "      <td>7.5</td>\n",
       "    </tr>\n",
       "    <tr>\n",
       "      <th>99</th>\n",
       "      <td>7.8</td>\n",
       "    </tr>\n",
       "  </tbody>\n",
       "</table>\n",
       "</div>\n",
       "      <button class=\"colab-df-convert\" onclick=\"convertToInteractive('df-da4db122-e8de-4187-a638-361c91edc39f')\"\n",
       "              title=\"Convert this dataframe to an interactive table.\"\n",
       "              style=\"display:none;\">\n",
       "        \n",
       "  <svg xmlns=\"http://www.w3.org/2000/svg\" height=\"24px\"viewBox=\"0 0 24 24\"\n",
       "       width=\"24px\">\n",
       "    <path d=\"M0 0h24v24H0V0z\" fill=\"none\"/>\n",
       "    <path d=\"M18.56 5.44l.94 2.06.94-2.06 2.06-.94-2.06-.94-.94-2.06-.94 2.06-2.06.94zm-11 1L8.5 8.5l.94-2.06 2.06-.94-2.06-.94L8.5 2.5l-.94 2.06-2.06.94zm10 10l.94 2.06.94-2.06 2.06-.94-2.06-.94-.94-2.06-.94 2.06-2.06.94z\"/><path d=\"M17.41 7.96l-1.37-1.37c-.4-.4-.92-.59-1.43-.59-.52 0-1.04.2-1.43.59L10.3 9.45l-7.72 7.72c-.78.78-.78 2.05 0 2.83L4 21.41c.39.39.9.59 1.41.59.51 0 1.02-.2 1.41-.59l7.78-7.78 2.81-2.81c.8-.78.8-2.07 0-2.86zM5.41 20L4 18.59l7.72-7.72 1.47 1.35L5.41 20z\"/>\n",
       "  </svg>\n",
       "      </button>\n",
       "      \n",
       "  <style>\n",
       "    .colab-df-container {\n",
       "      display:flex;\n",
       "      flex-wrap:wrap;\n",
       "      gap: 12px;\n",
       "    }\n",
       "\n",
       "    .colab-df-convert {\n",
       "      background-color: #E8F0FE;\n",
       "      border: none;\n",
       "      border-radius: 50%;\n",
       "      cursor: pointer;\n",
       "      display: none;\n",
       "      fill: #1967D2;\n",
       "      height: 32px;\n",
       "      padding: 0 0 0 0;\n",
       "      width: 32px;\n",
       "    }\n",
       "\n",
       "    .colab-df-convert:hover {\n",
       "      background-color: #E2EBFA;\n",
       "      box-shadow: 0px 1px 2px rgba(60, 64, 67, 0.3), 0px 1px 3px 1px rgba(60, 64, 67, 0.15);\n",
       "      fill: #174EA6;\n",
       "    }\n",
       "\n",
       "    [theme=dark] .colab-df-convert {\n",
       "      background-color: #3B4455;\n",
       "      fill: #D2E3FC;\n",
       "    }\n",
       "\n",
       "    [theme=dark] .colab-df-convert:hover {\n",
       "      background-color: #434B5C;\n",
       "      box-shadow: 0px 1px 3px 1px rgba(0, 0, 0, 0.15);\n",
       "      filter: drop-shadow(0px 1px 2px rgba(0, 0, 0, 0.3));\n",
       "      fill: #FFFFFF;\n",
       "    }\n",
       "  </style>\n",
       "\n",
       "      <script>\n",
       "        const buttonEl =\n",
       "          document.querySelector('#df-da4db122-e8de-4187-a638-361c91edc39f button.colab-df-convert');\n",
       "        buttonEl.style.display =\n",
       "          google.colab.kernel.accessAllowed ? 'block' : 'none';\n",
       "\n",
       "        async function convertToInteractive(key) {\n",
       "          const element = document.querySelector('#df-da4db122-e8de-4187-a638-361c91edc39f');\n",
       "          const dataTable =\n",
       "            await google.colab.kernel.invokeFunction('convertToInteractive',\n",
       "                                                     [key], {});\n",
       "          if (!dataTable) return;\n",
       "\n",
       "          const docLinkHtml = 'Like what you see? Visit the ' +\n",
       "            '<a target=\"_blank\" href=https://colab.research.google.com/notebooks/data_table.ipynb>data table notebook</a>'\n",
       "            + ' to learn more about interactive tables.';\n",
       "          element.innerHTML = '';\n",
       "          dataTable['output_type'] = 'display_data';\n",
       "          await google.colab.output.renderOutput(dataTable, element);\n",
       "          const docLink = document.createElement('div');\n",
       "          docLink.innerHTML = docLinkHtml;\n",
       "          element.appendChild(docLink);\n",
       "        }\n",
       "      </script>\n",
       "    </div>\n",
       "  </div>\n",
       "  "
      ],
      "text/plain": [
       "    averageRating\n",
       "id               \n",
       "67            7.4\n",
       "76            8.1\n",
       "80            8.0\n",
       "92            7.5\n",
       "99            7.8"
      ]
     },
     "execution_count": 7,
     "metadata": {},
     "output_type": "execute_result"
    }
   ],
   "source": [
    "pic = [int(i[:-4]) for i in files]\n",
    "data = data[data['id'].isin(pic)]\n",
    "data.sort_values('id',inplace = True)\n",
    "data.set_index('id',inplace = True)\n",
    "data.head()"
   ]
  },
  {
   "cell_type": "code",
   "execution_count": null,
   "metadata": {
    "colab": {
     "base_uri": "https://localhost:8080/"
    },
    "id": "bCKOGWgy13Am",
    "outputId": "c95c1f4b-7ba1-4072-b4c7-7a294098bfa0"
   },
   "outputs": [
    {
     "data": {
      "text/plain": [
       "5713"
      ]
     },
     "execution_count": 8,
     "metadata": {},
     "output_type": "execute_result"
    }
   ],
   "source": [
    "len(data)"
   ]
  },
  {
   "cell_type": "code",
   "execution_count": null,
   "metadata": {
    "id": "ufMSyhEOREwe"
   },
   "outputs": [],
   "source": [
    "data['target'] = np.where(data['averageRating'] >= 6.5, 1, 0)"
   ]
  },
  {
   "cell_type": "markdown",
   "metadata": {},
   "source": [
    "# Build sub-dataset"
   ]
  },
  {
   "cell_type": "code",
   "execution_count": null,
   "metadata": {
    "colab": {
     "base_uri": "https://localhost:8080/",
     "height": 238
    },
    "id": "exu9WO-NRVtD",
    "outputId": "a445c2d7-28b8-4eb8-85fc-f012d489c0d8"
   },
   "outputs": [
    {
     "data": {
      "text/html": [
       "\n",
       "  <div id=\"df-97317dcb-9139-410d-9e01-88820c67f74e\">\n",
       "    <div class=\"colab-df-container\">\n",
       "      <div>\n",
       "<style scoped>\n",
       "    .dataframe tbody tr th:only-of-type {\n",
       "        vertical-align: middle;\n",
       "    }\n",
       "\n",
       "    .dataframe tbody tr th {\n",
       "        vertical-align: top;\n",
       "    }\n",
       "\n",
       "    .dataframe thead th {\n",
       "        text-align: right;\n",
       "    }\n",
       "</style>\n",
       "<table border=\"1\" class=\"dataframe\">\n",
       "  <thead>\n",
       "    <tr style=\"text-align: right;\">\n",
       "      <th></th>\n",
       "      <th>averageRating</th>\n",
       "      <th>target</th>\n",
       "    </tr>\n",
       "    <tr>\n",
       "      <th>id</th>\n",
       "      <th></th>\n",
       "      <th></th>\n",
       "    </tr>\n",
       "  </thead>\n",
       "  <tbody>\n",
       "    <tr>\n",
       "      <th>67</th>\n",
       "      <td>7.4</td>\n",
       "      <td>1</td>\n",
       "    </tr>\n",
       "    <tr>\n",
       "      <th>80</th>\n",
       "      <td>8.0</td>\n",
       "      <td>1</td>\n",
       "    </tr>\n",
       "    <tr>\n",
       "      <th>102</th>\n",
       "      <td>7.5</td>\n",
       "      <td>1</td>\n",
       "    </tr>\n",
       "    <tr>\n",
       "      <th>158</th>\n",
       "      <td>8.0</td>\n",
       "      <td>1</td>\n",
       "    </tr>\n",
       "    <tr>\n",
       "      <th>212</th>\n",
       "      <td>8.0</td>\n",
       "      <td>1</td>\n",
       "    </tr>\n",
       "  </tbody>\n",
       "</table>\n",
       "</div>\n",
       "      <button class=\"colab-df-convert\" onclick=\"convertToInteractive('df-97317dcb-9139-410d-9e01-88820c67f74e')\"\n",
       "              title=\"Convert this dataframe to an interactive table.\"\n",
       "              style=\"display:none;\">\n",
       "        \n",
       "  <svg xmlns=\"http://www.w3.org/2000/svg\" height=\"24px\"viewBox=\"0 0 24 24\"\n",
       "       width=\"24px\">\n",
       "    <path d=\"M0 0h24v24H0V0z\" fill=\"none\"/>\n",
       "    <path d=\"M18.56 5.44l.94 2.06.94-2.06 2.06-.94-2.06-.94-.94-2.06-.94 2.06-2.06.94zm-11 1L8.5 8.5l.94-2.06 2.06-.94-2.06-.94L8.5 2.5l-.94 2.06-2.06.94zm10 10l.94 2.06.94-2.06 2.06-.94-2.06-.94-.94-2.06-.94 2.06-2.06.94z\"/><path d=\"M17.41 7.96l-1.37-1.37c-.4-.4-.92-.59-1.43-.59-.52 0-1.04.2-1.43.59L10.3 9.45l-7.72 7.72c-.78.78-.78 2.05 0 2.83L4 21.41c.39.39.9.59 1.41.59.51 0 1.02-.2 1.41-.59l7.78-7.78 2.81-2.81c.8-.78.8-2.07 0-2.86zM5.41 20L4 18.59l7.72-7.72 1.47 1.35L5.41 20z\"/>\n",
       "  </svg>\n",
       "      </button>\n",
       "      \n",
       "  <style>\n",
       "    .colab-df-container {\n",
       "      display:flex;\n",
       "      flex-wrap:wrap;\n",
       "      gap: 12px;\n",
       "    }\n",
       "\n",
       "    .colab-df-convert {\n",
       "      background-color: #E8F0FE;\n",
       "      border: none;\n",
       "      border-radius: 50%;\n",
       "      cursor: pointer;\n",
       "      display: none;\n",
       "      fill: #1967D2;\n",
       "      height: 32px;\n",
       "      padding: 0 0 0 0;\n",
       "      width: 32px;\n",
       "    }\n",
       "\n",
       "    .colab-df-convert:hover {\n",
       "      background-color: #E2EBFA;\n",
       "      box-shadow: 0px 1px 2px rgba(60, 64, 67, 0.3), 0px 1px 3px 1px rgba(60, 64, 67, 0.15);\n",
       "      fill: #174EA6;\n",
       "    }\n",
       "\n",
       "    [theme=dark] .colab-df-convert {\n",
       "      background-color: #3B4455;\n",
       "      fill: #D2E3FC;\n",
       "    }\n",
       "\n",
       "    [theme=dark] .colab-df-convert:hover {\n",
       "      background-color: #434B5C;\n",
       "      box-shadow: 0px 1px 3px 1px rgba(0, 0, 0, 0.15);\n",
       "      filter: drop-shadow(0px 1px 2px rgba(0, 0, 0, 0.3));\n",
       "      fill: #FFFFFF;\n",
       "    }\n",
       "  </style>\n",
       "\n",
       "      <script>\n",
       "        const buttonEl =\n",
       "          document.querySelector('#df-97317dcb-9139-410d-9e01-88820c67f74e button.colab-df-convert');\n",
       "        buttonEl.style.display =\n",
       "          google.colab.kernel.accessAllowed ? 'block' : 'none';\n",
       "\n",
       "        async function convertToInteractive(key) {\n",
       "          const element = document.querySelector('#df-97317dcb-9139-410d-9e01-88820c67f74e');\n",
       "          const dataTable =\n",
       "            await google.colab.kernel.invokeFunction('convertToInteractive',\n",
       "                                                     [key], {});\n",
       "          if (!dataTable) return;\n",
       "\n",
       "          const docLinkHtml = 'Like what you see? Visit the ' +\n",
       "            '<a target=\"_blank\" href=https://colab.research.google.com/notebooks/data_table.ipynb>data table notebook</a>'\n",
       "            + ' to learn more about interactive tables.';\n",
       "          element.innerHTML = '';\n",
       "          dataTable['output_type'] = 'display_data';\n",
       "          await google.colab.output.renderOutput(dataTable, element);\n",
       "          const docLink = document.createElement('div');\n",
       "          docLink.innerHTML = docLinkHtml;\n",
       "          element.appendChild(docLink);\n",
       "        }\n",
       "      </script>\n",
       "    </div>\n",
       "  </div>\n",
       "  "
      ],
      "text/plain": [
       "     averageRating  target\n",
       "id                        \n",
       "67             7.4       1\n",
       "80             8.0       1\n",
       "102            7.5       1\n",
       "158            8.0       1\n",
       "212            8.0       1"
      ]
     },
     "execution_count": 9,
     "metadata": {},
     "output_type": "execute_result"
    }
   ],
   "source": [
    "# select balanced subdataset with 2000 images\n",
    "id1 = data[data['target'].isin([1])].index\n",
    "id0 = data[data['target'].isin([0])].index\n",
    "idx = np.concatenate([np.random.choice(id1, 1000, replace = False),np.random.choice(id0, 1000, replace = False)],axis = 0)\n",
    "subdata = data[data.index.isin(idx)]\n",
    "subdata.head()"
   ]
  },
  {
   "cell_type": "code",
   "execution_count": null,
   "metadata": {
    "colab": {
     "base_uri": "https://localhost:8080/"
    },
    "id": "JXMX0jLPbT1V",
    "outputId": "e9de84bd-b71d-47a4-ba03-c91e68e1de8e"
   },
   "outputs": [
    {
     "data": {
      "text/plain": [
       "1    0.5\n",
       "0    0.5\n",
       "Name: target, dtype: float64"
      ]
     },
     "execution_count": 10,
     "metadata": {},
     "output_type": "execute_result"
    }
   ],
   "source": [
    "subdata.target.value_counts(normalize = True)"
   ]
  },
  {
   "cell_type": "code",
   "execution_count": null,
   "metadata": {
    "colab": {
     "base_uri": "https://localhost:8080/",
     "height": 282
    },
    "id": "XNdckwgjbKNE",
    "outputId": "e5ea155e-544a-4c11-a081-d91d344bc3ca"
   },
   "outputs": [
    {
     "data": {
      "text/plain": [
       "<matplotlib.axes._subplots.AxesSubplot at 0x7f2167074710>"
      ]
     },
     "execution_count": 13,
     "metadata": {},
     "output_type": "execute_result"
    },
    {
     "data": {
      "image/png": "[encoded data removed]",
      "text/plain": [
       "<Figure size 432x288 with 1 Axes>"
      ]
     },
     "metadata": {
      "needs_background": "light"
     },
     "output_type": "display_data"
    }
   ],
   "source": [
    "import seaborn as sns\n",
    "sns.barplot(x=[1, 0], y=subdata.target.value_counts())"
   ]
  },
  {
   "cell_type": "markdown",
   "metadata": {},
   "source": [
    "# Load and resize image data"
   ]
  },
  {
   "cell_type": "code",
   "execution_count": null,
   "metadata": {
    "colab": {
     "base_uri": "https://localhost:8080/"
    },
    "id": "5JJKM5MR5Rqi",
    "outputId": "69fb1bb8-341a-435d-b6bc-bafb3a73062f"
   },
   "outputs": [
    {
     "name": "stdout",
     "output_type": "stream",
     "text": [
      "500 done.\n",
      "1000 done.\n",
      "1500 done.\n",
      "2000 done.\n"
     ]
    },
    {
     "data": {
      "text/plain": [
       "((2000, 224, 224, 3), (2000,))"
      ]
     },
     "execution_count": 10,
     "metadata": {},
     "output_type": "execute_result"
    }
   ],
   "source": [
    "idx = subdata.index.values[0]\n",
    "X = cv2.imread('./poster/' + str(idx) + '.png')\n",
    "X = cv2.resize(X, (224,224), interpolation = cv2.INTER_AREA)\n",
    "X = X.reshape(1,X.shape[0], X.shape[1], X.shape[2])\n",
    "for i in range(1,len(subdata)):\n",
    "  if (i+1) % 500 == 0:\n",
    "    print((i+1),'done.')\n",
    "  idx = subdata.index.values[i]\n",
    "  img = cv2.imread('./poster/' + str(idx) + '.png')\n",
    "  img = cv2.resize(img, (224,224), interpolation = cv2.INTER_AREA)\n",
    "  img = img.reshape(1,img.shape[0], img.shape[1], img.shape[2])\n",
    "  X = np.concatenate([X,img], axis = 0)\n",
    "\n",
    "y = subdata.target.values\n",
    "X.shape, y.shape"
   ]
  },
  {
   "cell_type": "code",
   "execution_count": null,
   "metadata": {
    "id": "f7oU2jvo4mw7"
   },
   "outputs": [],
   "source": [
    "# Normalize pixel values to be between 0 and 1\n",
    "X = X / 255.0"
   ]
  },
  {
   "cell_type": "markdown",
   "metadata": {},
   "source": [
    "# CNNs"
   ]
  },
  {
   "cell_type": "code",
   "execution_count": null,
   "metadata": {
    "id": "flCgyB6H40Ii"
   },
   "outputs": [],
   "source": [
    "import tensorflow as tf\n",
    "from tensorflow.keras import datasets, layers, models\n",
    "from sklearn.model_selection import train_test_split\n",
    "\n",
    "from tensorflow.keras.models import Sequential\n",
    "from tensorflow.keras.layers import Conv2D, MaxPooling2D\n",
    "from tensorflow.keras.layers import Activation, Dropout, Flatten, Dense"
   ]
  },
  {
   "cell_type": "code",
   "execution_count": null,
   "metadata": {
    "id": "VkB_LOKrMoTZ"
   },
   "outputs": [],
   "source": [
    "X_train,X_test, y_train, y_test = train_test_split(X,y,test_size = 0.2,random_state = 42)"
   ]
  },
  {
   "cell_type": "code",
   "execution_count": null,
   "metadata": {
    "colab": {
     "base_uri": "https://localhost:8080/"
    },
    "id": "rDKHz-dbgSOB",
    "outputId": "bbcc31a3-35f7-43e4-d2b8-312299bb63db"
   },
   "outputs": [
    {
     "name": "stdout",
     "output_type": "stream",
     "text": [
      "Epoch 1/20\n",
      "100/100 [==============================] - 13s 35ms/step - loss: 2.5547 - accuracy: 0.5019 - val_loss: 0.7194 - val_accuracy: 0.4925\n",
      "Epoch 2/20\n",
      "100/100 [==============================] - 3s 28ms/step - loss: 0.6836 - accuracy: 0.5838 - val_loss: 0.7368 - val_accuracy: 0.5150\n",
      "Epoch 3/20\n",
      "100/100 [==============================] - 3s 29ms/step - loss: 0.5681 - accuracy: 0.7312 - val_loss: 0.7248 - val_accuracy: 0.5075\n",
      "Epoch 4/20\n",
      "100/100 [==============================] - 3s 29ms/step - loss: 0.3859 - accuracy: 0.8381 - val_loss: 1.0589 - val_accuracy: 0.4875\n",
      "Epoch 5/20\n",
      "100/100 [==============================] - 3s 29ms/step - loss: 0.2455 - accuracy: 0.9137 - val_loss: 0.9847 - val_accuracy: 0.5275\n",
      "Epoch 6/20\n",
      "100/100 [==============================] - 3s 29ms/step - loss: 0.1534 - accuracy: 0.9463 - val_loss: 1.2702 - val_accuracy: 0.5050\n",
      "Epoch 7/20\n",
      "100/100 [==============================] - 3s 29ms/step - loss: 0.1097 - accuracy: 0.9563 - val_loss: 1.6513 - val_accuracy: 0.4900\n",
      "Epoch 8/20\n",
      "100/100 [==============================] - 3s 30ms/step - loss: 0.1072 - accuracy: 0.9688 - val_loss: 1.6296 - val_accuracy: 0.4850\n",
      "Epoch 9/20\n",
      "100/100 [==============================] - 3s 29ms/step - loss: 0.0584 - accuracy: 0.9806 - val_loss: 1.9032 - val_accuracy: 0.5225\n",
      "Epoch 10/20\n",
      "100/100 [==============================] - 3s 29ms/step - loss: 0.0430 - accuracy: 0.9862 - val_loss: 2.3014 - val_accuracy: 0.5075\n",
      "Epoch 11/20\n",
      "100/100 [==============================] - 3s 29ms/step - loss: 0.0478 - accuracy: 0.9900 - val_loss: 2.4673 - val_accuracy: 0.4950\n",
      "Epoch 12/20\n",
      "100/100 [==============================] - 3s 29ms/step - loss: 0.0490 - accuracy: 0.9906 - val_loss: 2.5698 - val_accuracy: 0.5000\n",
      "Epoch 13/20\n",
      "100/100 [==============================] - 3s 28ms/step - loss: 0.0325 - accuracy: 0.9912 - val_loss: 2.7288 - val_accuracy: 0.5075\n",
      "Epoch 14/20\n",
      "100/100 [==============================] - 3s 29ms/step - loss: 0.0442 - accuracy: 0.9900 - val_loss: 2.6452 - val_accuracy: 0.5050\n",
      "Epoch 15/20\n",
      "100/100 [==============================] - 3s 29ms/step - loss: 0.0298 - accuracy: 0.9881 - val_loss: 2.4126 - val_accuracy: 0.4900\n",
      "Epoch 16/20\n",
      "100/100 [==============================] - 3s 29ms/step - loss: 0.0223 - accuracy: 0.9944 - val_loss: 3.2754 - val_accuracy: 0.5250\n",
      "Epoch 17/20\n",
      "100/100 [==============================] - 3s 29ms/step - loss: 0.0257 - accuracy: 0.9937 - val_loss: 2.8975 - val_accuracy: 0.4950\n",
      "Epoch 18/20\n",
      "100/100 [==============================] - 3s 29ms/step - loss: 0.0235 - accuracy: 0.9931 - val_loss: 3.3018 - val_accuracy: 0.4900\n",
      "Epoch 19/20\n",
      "100/100 [==============================] - 3s 29ms/step - loss: 0.0144 - accuracy: 0.9962 - val_loss: 3.6265 - val_accuracy: 0.5000\n",
      "Epoch 20/20\n",
      "100/100 [==============================] - 3s 33ms/step - loss: 0.0272 - accuracy: 0.9950 - val_loss: 3.7944 - val_accuracy: 0.5025\n"
     ]
    }
   ],
   "source": [
    "# model 1\n",
    "\n",
    "model = Sequential()\n",
    "model.add(Conv2D(32, (3, 3), input_shape=(224, 224, 3)))\n",
    "model.add(Activation('relu'))\n",
    "model.add(MaxPooling2D(pool_size=(2, 2)))\n",
    "model.add(Flatten())  # this converts our 3D feature maps to 1D feature vectors\n",
    "model.add(Dense(64))\n",
    "model.add(Activation('relu'))\n",
    "model.add(Dropout(0.5))\n",
    "model.add(Dense(1, activation='sigmoid', name='preds'))\n",
    "\n",
    "model.compile(loss='binary_crossentropy',\n",
    "              optimizer='rmsprop',\n",
    "              metrics=['accuracy'])\n",
    "\n",
    "history = model.fit(X_train, y_train,\n",
    "                    #steps_per_epoch=1100 // batch_size,\n",
    "                    epochs=20,\n",
    "                    batch_size = 16,\n",
    "                    validation_data=(X_test, y_test)\n",
    "                    #validation_steps=380 // batch_size\n",
    "                    )"
   ]
  },
  {
   "cell_type": "code",
   "execution_count": null,
   "metadata": {
    "colab": {
     "base_uri": "https://localhost:8080/"
    },
    "id": "CMcfQ8355IDa",
    "outputId": "b2cddf52-8322-47ba-ec6d-717c21f62b08"
   },
   "outputs": [
    {
     "name": "stdout",
     "output_type": "stream",
     "text": [
      "Model: \"sequential\"\n",
      "_________________________________________________________________\n",
      " Layer (type)                Output Shape              Param #   \n",
      "=================================================================\n",
      " conv2d (Conv2D)             (None, 222, 222, 32)      896       \n",
      "                                                                 \n",
      " max_pooling2d (MaxPooling2D  (None, 111, 111, 32)     0         \n",
      " )                                                               \n",
      "                                                                 \n",
      " conv2d_1 (Conv2D)           (None, 109, 109, 64)      18496     \n",
      "                                                                 \n",
      " max_pooling2d_1 (MaxPooling  (None, 54, 54, 64)       0         \n",
      " 2D)                                                             \n",
      "                                                                 \n",
      " conv2d_2 (Conv2D)           (None, 52, 52, 64)        36928     \n",
      "                                                                 \n",
      " flatten (Flatten)           (None, 173056)            0         \n",
      "                                                                 \n",
      " dense (Dense)               (None, 64)                11075648  \n",
      "                                                                 \n",
      " dense_1 (Dense)             (None, 1)                 65        \n",
      "                                                                 \n",
      "=================================================================\n",
      "Total params: 11,132,033\n",
      "Trainable params: 11,132,033\n",
      "Non-trainable params: 0\n",
      "_________________________________________________________________\n"
     ]
    }
   ],
   "source": [
    "# model 2\n",
    "# Create the convolutional base\n",
    "model = models.Sequential()\n",
    "model.add(layers.Conv2D(32, (3, 3), activation='relu', input_shape=(224, 224, 3)))\n",
    "model.add(layers.MaxPooling2D((2, 2)))\n",
    "model.add(layers.Conv2D(64, (3, 3), activation='relu'))\n",
    "model.add(layers.MaxPooling2D((2, 2)))\n",
    "model.add(layers.Conv2D(64, (3, 3), activation='relu'))\n",
    "\n",
    "# Add dense layers on top\n",
    "model.add(layers.Flatten())\n",
    "model.add(layers.Dense(64, activation='relu'))\n",
    "model.add(layers.Dense(1, activation = 'sigmoid'))\n",
    "\n",
    "# Complete architecture of model\n",
    "model.summary()"
   ]
  },
  {
   "cell_type": "code",
   "execution_count": null,
   "metadata": {
    "colab": {
     "base_uri": "https://localhost:8080/"
    },
    "id": "iPf3dHd4NkmR",
    "outputId": "df595e77-87a1-480e-eaa1-c9e2e3e19003"
   },
   "outputs": [
    {
     "name": "stdout",
     "output_type": "stream",
     "text": [
      "Epoch 1/20\n",
      "100/100 [==============================] - 5s 26ms/step - loss: 0.8305 - accuracy: 0.4819 - val_loss: 0.6929 - val_accuracy: 0.5000\n",
      "Epoch 2/20\n",
      "100/100 [==============================] - 2s 21ms/step - loss: 0.6974 - accuracy: 0.5088 - val_loss: 0.6942 - val_accuracy: 0.4550\n",
      "Epoch 3/20\n",
      "100/100 [==============================] - 2s 21ms/step - loss: 0.6892 - accuracy: 0.5612 - val_loss: 0.6875 - val_accuracy: 0.5450\n",
      "Epoch 4/20\n",
      "100/100 [==============================] - 2s 22ms/step - loss: 0.6458 - accuracy: 0.6306 - val_loss: 0.7418 - val_accuracy: 0.5000\n",
      "Epoch 5/20\n",
      "100/100 [==============================] - 2s 22ms/step - loss: 0.4389 - accuracy: 0.7850 - val_loss: 0.8476 - val_accuracy: 0.5125\n",
      "Epoch 6/20\n",
      "100/100 [==============================] - 2s 22ms/step - loss: 0.2146 - accuracy: 0.9169 - val_loss: 1.5411 - val_accuracy: 0.5375\n",
      "Epoch 7/20\n",
      "100/100 [==============================] - 2s 22ms/step - loss: 0.0944 - accuracy: 0.9688 - val_loss: 3.2184 - val_accuracy: 0.5125\n",
      "Epoch 8/20\n",
      "100/100 [==============================] - 2s 22ms/step - loss: 0.0919 - accuracy: 0.9787 - val_loss: 2.3097 - val_accuracy: 0.5525\n",
      "Epoch 9/20\n",
      "100/100 [==============================] - 2s 21ms/step - loss: 0.0243 - accuracy: 0.9925 - val_loss: 3.2746 - val_accuracy: 0.5375\n",
      "Epoch 10/20\n",
      "100/100 [==============================] - 2s 21ms/step - loss: 0.0202 - accuracy: 0.9969 - val_loss: 3.9685 - val_accuracy: 0.5150\n",
      "Epoch 11/20\n",
      "100/100 [==============================] - 2s 22ms/step - loss: 0.0219 - accuracy: 0.9956 - val_loss: 3.4990 - val_accuracy: 0.5325\n",
      "Epoch 12/20\n",
      "100/100 [==============================] - 2s 21ms/step - loss: 0.0042 - accuracy: 1.0000 - val_loss: 4.2505 - val_accuracy: 0.5275\n",
      "Epoch 13/20\n",
      "100/100 [==============================] - 2s 22ms/step - loss: 0.0018 - accuracy: 0.9994 - val_loss: 4.3839 - val_accuracy: 0.5325\n",
      "Epoch 14/20\n",
      "100/100 [==============================] - 2s 22ms/step - loss: 7.9624e-04 - accuracy: 1.0000 - val_loss: 4.8769 - val_accuracy: 0.5325\n",
      "Epoch 15/20\n",
      "100/100 [==============================] - 2s 22ms/step - loss: 3.4181e-04 - accuracy: 1.0000 - val_loss: 5.1371 - val_accuracy: 0.5400\n",
      "Epoch 16/20\n",
      "100/100 [==============================] - 2s 21ms/step - loss: 1.8152e-04 - accuracy: 1.0000 - val_loss: 5.3550 - val_accuracy: 0.5350\n",
      "Epoch 17/20\n",
      "100/100 [==============================] - 2s 21ms/step - loss: 1.1253e-04 - accuracy: 1.0000 - val_loss: 5.4474 - val_accuracy: 0.5375\n",
      "Epoch 18/20\n",
      "100/100 [==============================] - 2s 21ms/step - loss: 8.3887e-05 - accuracy: 1.0000 - val_loss: 5.5807 - val_accuracy: 0.5425\n",
      "Epoch 19/20\n",
      "100/100 [==============================] - 2s 21ms/step - loss: 6.2475e-05 - accuracy: 1.0000 - val_loss: 5.6679 - val_accuracy: 0.5475\n",
      "Epoch 20/20\n",
      "100/100 [==============================] - 2s 21ms/step - loss: 4.9771e-05 - accuracy: 1.0000 - val_loss: 5.7282 - val_accuracy: 0.5475\n"
     ]
    }
   ],
   "source": [
    "# Compile and train model\n",
    "model.compile(optimizer='adam',\n",
    "              loss=tf.keras.losses.BinaryCrossentropy(),\n",
    "              metrics=['accuracy'])\n",
    "\n",
    "history = model.fit(X_train, y_train, epochs=20, \n",
    "                    batch_size = 16,\n",
    "                    validation_data=(X_test, y_test))"
   ]
  },
  {
   "cell_type": "code",
   "execution_count": null,
   "metadata": {
    "id": "N0k90DlY3nhY"
   },
   "outputs": [],
   "source": [
    "model.save('poster_model.h5')"
   ]
  },
  {
   "cell_type": "code",
   "execution_count": null,
   "metadata": {
    "id": "aUPe_Ze537F8"
   },
   "outputs": [],
   "source": [
    "model = models.load_model('poster_model.h5')"
   ]
  },
  {
   "cell_type": "code",
   "execution_count": null,
   "metadata": {
    "colab": {
     "base_uri": "https://localhost:8080/",
     "height": 318
    },
    "id": "UFQOYrooHYqD",
    "outputId": "b35214f0-41ae-463b-ce3f-0b21e785e255"
   },
   "outputs": [
    {
     "name": "stdout",
     "output_type": "stream",
     "text": [
      "13/13 - 0s - loss: 5.7282 - accuracy: 0.5475 - 421ms/epoch - 32ms/step\n",
      "0.5475000143051147\n"
     ]
    },
    {
     "data": {
      "image/png": "[encoded data removed]",
      "text/plain": [
       "<Figure size 432x288 with 1 Axes>"
      ]
     },
     "metadata": {
      "needs_background": "light"
     },
     "output_type": "display_data"
    }
   ],
   "source": [
    "import matplotlib.pyplot as plt\n",
    "%matplotlib inline\n",
    "\n",
    "# Evaluate model\n",
    "plt.plot(history.history['accuracy'], label='accuracy')\n",
    "plt.plot(history.history['val_accuracy'], label = 'val_accuracy')\n",
    "plt.xlabel('Epoch')\n",
    "plt.ylabel('Accuracy')\n",
    "plt.ylim([0.3, 1])\n",
    "plt.legend(loc='lower right')\n",
    "\n",
    "test_loss, test_acc = model.evaluate(X_test,  y_test, verbose=2)\n",
    "print(test_acc)"
   ]
  },
  {
   "cell_type": "code",
   "execution_count": null,
   "metadata": {
    "colab": {
     "base_uri": "https://localhost:8080/"
    },
    "id": "f8T8KItKIoly",
    "outputId": "ac6269e9-d4b0-4f54-8f7e-62cf0fc15d41"
   },
   "outputs": [
    {
     "name": "stdout",
     "output_type": "stream",
     "text": [
      "13/13 [==============================] - 0s 19ms/step - loss: 5.7282 - accuracy: 0.5475\n",
      "Test loss: 5.728214263916016\n",
      "Test accuracy: 0.5475000143051147\n"
     ]
    }
   ],
   "source": [
    "# Predict and test model performance\n",
    "score = model.evaluate(X_test,  y_test)\n",
    "\n",
    "# score = model.evaluate(x_test, y_test, verbose=1)\n",
    "\n",
    "print('Test loss:', score[0])\n",
    "print('Test accuracy:', score[1])"
   ]
  },
  {
   "cell_type": "markdown",
   "metadata": {},
   "source": [
    "# CAM"
   ]
  },
  {
   "cell_type": "code",
   "execution_count": null,
   "metadata": {
    "colab": {
     "base_uri": "https://localhost:8080/",
     "height": 286
    },
    "id": "p97m82aBrPJn",
    "outputId": "6c1144e0-15ac-4d8e-b0e9-812a81577094"
   },
   "outputs": [
    {
     "data": {
      "text/plain": [
       "<matplotlib.image.AxesImage at 0x7f3a70156a90>"
      ]
     },
     "execution_count": 19,
     "metadata": {},
     "output_type": "execute_result"
    },
    {
     "data": {
      "image/png": "[encoded data removed]",
      "text/plain": [
       "<Figure size 432x288 with 1 Axes>"
      ]
     },
     "metadata": {
      "needs_background": "light"
     },
     "output_type": "display_data"
    }
   ],
   "source": [
    "import matplotlib.pyplot as plt\n",
    "%matplotlib inline\n",
    "# Prepare image for CNN\n",
    "img_idx = 66\n",
    "\n",
    "# Show image\n",
    "plt.imshow(X_test[img_idx][:,:,[2,1,0]])"
   ]
  },
  {
   "cell_type": "code",
   "execution_count": null,
   "metadata": {
    "colab": {
     "base_uri": "https://localhost:8080/"
    },
    "id": "7i3IL77drfjd",
    "outputId": "1e7390ba-66ff-46d3-dc3e-4aef49291ca9"
   },
   "outputs": [
    {
     "name": "stdout",
     "output_type": "stream",
     "text": [
      "Label: 0\n",
      "Image shape: (1, 224, 224, 3)\n",
      "Predicted class:  0\n",
      "Predicted class probability:  1.0\n"
     ]
    }
   ],
   "source": [
    "# Image label\n",
    "actual_image_type = y_test[img_idx]\n",
    "print('Label:', actual_image_type)\n",
    "\n",
    "# Image shape\n",
    "test_image =np.expand_dims(X_test[img_idx], axis=0)\n",
    "print('Image shape:', test_image.shape)\n",
    "\n",
    "# Make prediction\n",
    "prediction_proba = model.predict(test_image,batch_size=1)[0][0]\n",
    "if prediction_proba < 0.5:\n",
    "  prediction = 0\n",
    "else:\n",
    "  prediction = 1\n",
    "\n",
    "# View prediction\n",
    "print(\"Predicted class: \", prediction)\n",
    "if prediction == 1:\n",
    "  print(\"Predicted class probability: \", prediction_proba)\n",
    "else:\n",
    "  print(\"Predicted class probability: \", 1-prediction_proba)"
   ]
  },
  {
   "cell_type": "markdown",
   "metadata": {
    "id": "DSKWk-5f-PxG"
   },
   "source": [
    "grad-cam"
   ]
  },
  {
   "cell_type": "code",
   "execution_count": null,
   "metadata": {
    "id": "kgTFeu4y-OvQ"
   },
   "outputs": [],
   "source": [
    "import numpy as np\n",
    "import tensorflow as tf\n",
    "from tensorflow import keras\n",
    "\n",
    "# Display\n",
    "from IPython.display import Image, display\n",
    "import matplotlib.pyplot as plt\n",
    "import matplotlib.cm as cm"
   ]
  },
  {
   "cell_type": "code",
   "execution_count": null,
   "metadata": {
    "id": "w9LrIanD-_B2"
   },
   "outputs": [],
   "source": [
    "def make_gradcam_heatmap(img_array, model, last_conv_layer_name, pred_index=None):\n",
    "    # First, we create a model that maps the input image to the activations\n",
    "    # of the last conv layer as well as the output predictions\n",
    "    grad_model = tf.keras.models.Model(\n",
    "        [model.inputs], [model.get_layer(last_conv_layer_name).output, model.output]\n",
    "    )\n",
    "\n",
    "    # Then, we compute the gradient of the top predicted class for our input image\n",
    "    # with respect to the activations of the last conv layer\n",
    "    with tf.GradientTape() as tape:\n",
    "        last_conv_layer_output, preds = grad_model(img_array)\n",
    "        if pred_index is None:\n",
    "            pred_index = tf.argmax(preds[0])\n",
    "        class_channel = preds[:, pred_index]\n",
    "\n",
    "    # This is the gradient of the output neuron (top predicted or chosen)\n",
    "    # with regard to the output feature map of the last conv layer\n",
    "    grads = tape.gradient(class_channel, last_conv_layer_output)\n",
    "\n",
    "    # This is a vector where each entry is the mean intensity of the gradient\n",
    "    # over a specific feature map channel\n",
    "    pooled_grads = tf.reduce_mean(grads, axis=(0, 1, 2))\n",
    "\n",
    "    # We multiply each channel in the feature map array\n",
    "    # by \"how important this channel is\" with regard to the top predicted class\n",
    "    # then sum all the channels to obtain the heatmap class activation\n",
    "    last_conv_layer_output = last_conv_layer_output[0]\n",
    "    heatmap = last_conv_layer_output @ pooled_grads[..., tf.newaxis]\n",
    "    heatmap = tf.squeeze(heatmap)\n",
    "\n",
    "    # For visualization purpose, we will also normalize the heatmap between 0 & 1\n",
    "    heatmap = tf.maximum(heatmap, 0) / tf.math.reduce_max(heatmap)\n",
    "    return heatmap.numpy()"
   ]
  },
  {
   "cell_type": "code",
   "execution_count": null,
   "metadata": {
    "colab": {
     "base_uri": "https://localhost:8080/",
     "height": 275
    },
    "id": "e0n-Q0mg_BWn",
    "outputId": "c4562c3c-4ab0-4142-b1cd-3f32bcf2debe"
   },
   "outputs": [
    {
     "data": {
      "image/png": "[encoded data removed]",
      "text/plain": [
       "<Figure size 288x288 with 1 Axes>"
      ]
     },
     "metadata": {
      "needs_background": "light"
     },
     "output_type": "display_data"
    }
   ],
   "source": [
    "# Remove last layer's softmax\n",
    "model.layers[-1].activation = None\n",
    "\n",
    "# Generate class activation heatmap\n",
    "last_conv_layer_name = \"conv2d_2\"\n",
    "heatmap = make_gradcam_heatmap(test_image, model, last_conv_layer_name)\n",
    "\n",
    "# Display heatmap\n",
    "plt.matshow(heatmap)\n",
    "plt.show()"
   ]
  },
  {
   "cell_type": "code",
   "execution_count": null,
   "metadata": {
    "colab": {
     "base_uri": "https://localhost:8080/",
     "height": 269
    },
    "id": "AEWlBFgrCuta",
    "outputId": "ca60999e-b6e1-4368-e698-05c2fcbeebc1"
   },
   "outputs": [
    {
     "data": {
      "image/png": "[encoded data removed]",
      "text/plain": [
       "<Figure size 432x288 with 1 Axes>"
      ]
     },
     "metadata": {
      "needs_background": "light"
     },
     "output_type": "display_data"
    }
   ],
   "source": [
    "def save_and_display_gradcam(img, heatmap, cam_path=\"cam.jpg\", alpha=0.4):\n",
    "    \n",
    "    # Rescale heatmap to a range 0-255\n",
    "    heatmap = np.uint8(255 * heatmap)\n",
    "\n",
    "    # Use jet colormap to colorize heatmap\n",
    "    jet = cm.get_cmap(\"jet\")\n",
    "\n",
    "    # Use RGB values of the colormap\n",
    "    jet_colors = jet(np.arange(256))[:, :3]\n",
    "    jet_heatmap = jet_colors[heatmap]\n",
    "\n",
    "    # Create an image with RGB colorized heatmap\n",
    "    jet_heatmap = keras.preprocessing.image.array_to_img(jet_heatmap)\n",
    "    jet_heatmap = jet_heatmap.resize((img.shape[1], img.shape[0]))\n",
    "    jet_heatmap = keras.preprocessing.image.img_to_array(jet_heatmap)\n",
    "\n",
    "    # Superimpose the heatmap on original image\n",
    "    superimposed_img = jet_heatmap * alpha + img[:,:,[2,1,0]]\n",
    "    superimposed_img = keras.preprocessing.image.array_to_img(superimposed_img)\n",
    "\n",
    "    # Save the superimposed image\n",
    "    superimposed_img.save(cam_path)\n",
    "\n",
    "    # Display Grad CAM\n",
    "    img = cv2.imread(cam_path)\n",
    "    plt.imshow(img[:,:,[2,1,0]])\n",
    "\n",
    "\n",
    "save_and_display_gradcam(X_test[img_idx], heatmap, alpha = 0.01)"
   ]
  },
  {
   "cell_type": "markdown",
   "metadata": {},
   "source": [
    "# Model Structure"
   ]
  },
  {
   "cell_type": "code",
   "execution_count": null,
   "metadata": {
    "id": "40pdUHQGDopC"
   },
   "outputs": [],
   "source": [
    "# Load libraries\n",
    "from tensorflow.keras import models\n",
    "from tensorflow.keras import layers\n",
    "from IPython.display import SVG\n",
    "from tensorflow.keras.utils import model_to_dot\n",
    "from tensorflow.keras.utils import plot_model"
   ]
  },
  {
   "cell_type": "code",
   "execution_count": null,
   "metadata": {
    "colab": {
     "base_uri": "https://localhost:8080/",
     "height": 980
    },
    "id": "U3DLXvSQFB-f",
    "outputId": "66aa6e45-2378-41cf-8174-bc97d9f5146c"
   },
   "outputs": [
    {
     "data": {
      "image/svg+xml": [
       "<svg height=\"719pt\" viewBox=\"0.00 0.00 452.00 719.00\" width=\"452pt\" xmlns=\"http://www.w3.org/2000/svg\" xmlns:xlink=\"http://www.w3.org/1999/xlink\">\n",
       "<g class=\"graph\" id=\"graph0\" transform=\"scale(1 1) rotate(0) translate(4 715)\">\n",
       "<title>G</title>\n",
       "<polygon fill=\"#ffffff\" points=\"-4,4 -4,-715 448,-715 448,4 -4,4\" stroke=\"transparent\"/>\n",
       "<!-- 140303701534480 -->\n",
       "<g class=\"node\" id=\"node1\">\n",
       "<title>140303701534480</title>\n",
       "<polygon fill=\"none\" points=\"3,-664.5 3,-710.5 441,-710.5 441,-664.5 3,-664.5\" stroke=\"#000000\"/>\n",
       "<text fill=\"#000000\" font-family=\"Times,serif\" font-size=\"14.00\" text-anchor=\"middle\" x=\"52\" y=\"-695.3\">conv2d_input</text>\n",
       "<polyline fill=\"none\" points=\"3,-687.5 101,-687.5 \" stroke=\"#000000\"/>\n",
       "<text fill=\"#000000\" font-family=\"Times,serif\" font-size=\"14.00\" text-anchor=\"middle\" x=\"52\" y=\"-672.3\">InputLayer</text>\n",
       "<polyline fill=\"none\" points=\"101,-664.5 101,-710.5 \" stroke=\"#000000\"/>\n",
       "<text fill=\"#000000\" font-family=\"Times,serif\" font-size=\"14.00\" text-anchor=\"middle\" x=\"130\" y=\"-695.3\">input:</text>\n",
       "<polyline fill=\"none\" points=\"101,-687.5 159,-687.5 \" stroke=\"#000000\"/>\n",
       "<text fill=\"#000000\" font-family=\"Times,serif\" font-size=\"14.00\" text-anchor=\"middle\" x=\"130\" y=\"-672.3\">output:</text>\n",
       "<polyline fill=\"none\" points=\"159,-664.5 159,-710.5 \" stroke=\"#000000\"/>\n",
       "<text fill=\"#000000\" font-family=\"Times,serif\" font-size=\"14.00\" text-anchor=\"middle\" x=\"229.5\" y=\"-683.8\">[(None, 224, 224, 3)]</text>\n",
       "<polyline fill=\"none\" points=\"300,-664.5 300,-710.5 \" stroke=\"#000000\"/>\n",
       "<text fill=\"#000000\" font-family=\"Times,serif\" font-size=\"14.00\" text-anchor=\"middle\" x=\"370.5\" y=\"-683.8\">[(None, 224, 224, 3)]</text>\n",
       "</g>\n",
       "<!-- 140303702011280 -->\n",
       "<g class=\"node\" id=\"node2\">\n",
       "<title>140303702011280</title>\n",
       "<polygon fill=\"none\" points=\"23.5,-581.5 23.5,-627.5 420.5,-627.5 420.5,-581.5 23.5,-581.5\" stroke=\"#000000\"/>\n",
       "<text fill=\"#000000\" font-family=\"Times,serif\" font-size=\"14.00\" text-anchor=\"middle\" x=\"57\" y=\"-612.3\">conv2d</text>\n",
       "<polyline fill=\"none\" points=\"23.5,-604.5 90.5,-604.5 \" stroke=\"#000000\"/>\n",
       "<text fill=\"#000000\" font-family=\"Times,serif\" font-size=\"14.00\" text-anchor=\"middle\" x=\"57\" y=\"-589.3\">Conv2D</text>\n",
       "<polyline fill=\"none\" points=\"90.5,-581.5 90.5,-627.5 \" stroke=\"#000000\"/>\n",
       "<text fill=\"#000000\" font-family=\"Times,serif\" font-size=\"14.00\" text-anchor=\"middle\" x=\"119.5\" y=\"-612.3\">input:</text>\n",
       "<polyline fill=\"none\" points=\"90.5,-604.5 148.5,-604.5 \" stroke=\"#000000\"/>\n",
       "<text fill=\"#000000\" font-family=\"Times,serif\" font-size=\"14.00\" text-anchor=\"middle\" x=\"119.5\" y=\"-589.3\">output:</text>\n",
       "<polyline fill=\"none\" points=\"148.5,-581.5 148.5,-627.5 \" stroke=\"#000000\"/>\n",
       "<text fill=\"#000000\" font-family=\"Times,serif\" font-size=\"14.00\" text-anchor=\"middle\" x=\"214.5\" y=\"-600.8\">(None, 224, 224, 3)</text>\n",
       "<polyline fill=\"none\" points=\"280.5,-581.5 280.5,-627.5 \" stroke=\"#000000\"/>\n",
       "<text fill=\"#000000\" font-family=\"Times,serif\" font-size=\"14.00\" text-anchor=\"middle\" x=\"350.5\" y=\"-600.8\">(None, 222, 222, 32)</text>\n",
       "</g>\n",
       "<!-- 140303701534480&#45;&gt;140303702011280 -->\n",
       "<g class=\"edge\" id=\"edge1\">\n",
       "<title>140303701534480-&gt;140303702011280</title>\n",
       "<path d=\"M222,-664.3799C222,-656.1745 222,-646.7679 222,-637.8786\" fill=\"none\" stroke=\"#000000\"/>\n",
       "<polygon fill=\"#000000\" points=\"225.5001,-637.784 222,-627.784 218.5001,-637.784 225.5001,-637.784\" stroke=\"#000000\"/>\n",
       "</g>\n",
       "<!-- 140303703851856 -->\n",
       "<g class=\"node\" id=\"node3\">\n",
       "<title>140303703851856</title>\n",
       "<polygon fill=\"none\" points=\"14.5,-498.5 14.5,-544.5 429.5,-544.5 429.5,-498.5 14.5,-498.5\" stroke=\"#000000\"/>\n",
       "<text fill=\"#000000\" font-family=\"Times,serif\" font-size=\"14.00\" text-anchor=\"middle\" x=\"53\" y=\"-529.3\">activation</text>\n",
       "<polyline fill=\"none\" points=\"14.5,-521.5 91.5,-521.5 \" stroke=\"#000000\"/>\n",
       "<text fill=\"#000000\" font-family=\"Times,serif\" font-size=\"14.00\" text-anchor=\"middle\" x=\"53\" y=\"-506.3\">Activation</text>\n",
       "<polyline fill=\"none\" points=\"91.5,-498.5 91.5,-544.5 \" stroke=\"#000000\"/>\n",
       "<text fill=\"#000000\" font-family=\"Times,serif\" font-size=\"14.00\" text-anchor=\"middle\" x=\"120.5\" y=\"-529.3\">input:</text>\n",
       "<polyline fill=\"none\" points=\"91.5,-521.5 149.5,-521.5 \" stroke=\"#000000\"/>\n",
       "<text fill=\"#000000\" font-family=\"Times,serif\" font-size=\"14.00\" text-anchor=\"middle\" x=\"120.5\" y=\"-506.3\">output:</text>\n",
       "<polyline fill=\"none\" points=\"149.5,-498.5 149.5,-544.5 \" stroke=\"#000000\"/>\n",
       "<text fill=\"#000000\" font-family=\"Times,serif\" font-size=\"14.00\" text-anchor=\"middle\" x=\"219.5\" y=\"-517.8\">(None, 222, 222, 32)</text>\n",
       "<polyline fill=\"none\" points=\"289.5,-498.5 289.5,-544.5 \" stroke=\"#000000\"/>\n",
       "<text fill=\"#000000\" font-family=\"Times,serif\" font-size=\"14.00\" text-anchor=\"middle\" x=\"359.5\" y=\"-517.8\">(None, 222, 222, 32)</text>\n",
       "</g>\n",
       "<!-- 140303702011280&#45;&gt;140303703851856 -->\n",
       "<g class=\"edge\" id=\"edge2\">\n",
       "<title>140303702011280-&gt;140303703851856</title>\n",
       "<path d=\"M222,-581.3799C222,-573.1745 222,-563.7679 222,-554.8786\" fill=\"none\" stroke=\"#000000\"/>\n",
       "<polygon fill=\"#000000\" points=\"225.5001,-554.784 222,-544.784 218.5001,-554.784 225.5001,-554.784\" stroke=\"#000000\"/>\n",
       "</g>\n",
       "<!-- 140303429340304 -->\n",
       "<g class=\"node\" id=\"node4\">\n",
       "<title>140303429340304</title>\n",
       "<polygon fill=\"none\" points=\"0,-415.5 0,-461.5 444,-461.5 444,-415.5 0,-415.5\" stroke=\"#000000\"/>\n",
       "<text fill=\"#000000\" font-family=\"Times,serif\" font-size=\"14.00\" text-anchor=\"middle\" x=\"54.5\" y=\"-446.3\">max_pooling2d</text>\n",
       "<polyline fill=\"none\" points=\"0,-438.5 109,-438.5 \" stroke=\"#000000\"/>\n",
       "<text fill=\"#000000\" font-family=\"Times,serif\" font-size=\"14.00\" text-anchor=\"middle\" x=\"54.5\" y=\"-423.3\">MaxPooling2D</text>\n",
       "<polyline fill=\"none\" points=\"109,-415.5 109,-461.5 \" stroke=\"#000000\"/>\n",
       "<text fill=\"#000000\" font-family=\"Times,serif\" font-size=\"14.00\" text-anchor=\"middle\" x=\"138\" y=\"-446.3\">input:</text>\n",
       "<polyline fill=\"none\" points=\"109,-438.5 167,-438.5 \" stroke=\"#000000\"/>\n",
       "<text fill=\"#000000\" font-family=\"Times,serif\" font-size=\"14.00\" text-anchor=\"middle\" x=\"138\" y=\"-423.3\">output:</text>\n",
       "<polyline fill=\"none\" points=\"167,-415.5 167,-461.5 \" stroke=\"#000000\"/>\n",
       "<text fill=\"#000000\" font-family=\"Times,serif\" font-size=\"14.00\" text-anchor=\"middle\" x=\"237\" y=\"-434.8\">(None, 222, 222, 32)</text>\n",
       "<polyline fill=\"none\" points=\"307,-415.5 307,-461.5 \" stroke=\"#000000\"/>\n",
       "<text fill=\"#000000\" font-family=\"Times,serif\" font-size=\"14.00\" text-anchor=\"middle\" x=\"375.5\" y=\"-434.8\">(None, 111, 111, 32)</text>\n",
       "</g>\n",
       "<!-- 140303703851856&#45;&gt;140303429340304 -->\n",
       "<g class=\"edge\" id=\"edge3\">\n",
       "<title>140303703851856-&gt;140303429340304</title>\n",
       "<path d=\"M222,-498.3799C222,-490.1745 222,-480.7679 222,-471.8786\" fill=\"none\" stroke=\"#000000\"/>\n",
       "<polygon fill=\"#000000\" points=\"225.5001,-471.784 222,-461.784 218.5001,-471.784 225.5001,-471.784\" stroke=\"#000000\"/>\n",
       "</g>\n",
       "<!-- 140303429974608 -->\n",
       "<g class=\"node\" id=\"node5\">\n",
       "<title>140303429974608</title>\n",
       "<polygon fill=\"none\" points=\"41.5,-332.5 41.5,-378.5 402.5,-378.5 402.5,-332.5 41.5,-332.5\" stroke=\"#000000\"/>\n",
       "<text fill=\"#000000\" font-family=\"Times,serif\" font-size=\"14.00\" text-anchor=\"middle\" x=\"69.5\" y=\"-363.3\">flatten</text>\n",
       "<polyline fill=\"none\" points=\"41.5,-355.5 97.5,-355.5 \" stroke=\"#000000\"/>\n",
       "<text fill=\"#000000\" font-family=\"Times,serif\" font-size=\"14.00\" text-anchor=\"middle\" x=\"69.5\" y=\"-340.3\">Flatten</text>\n",
       "<polyline fill=\"none\" points=\"97.5,-332.5 97.5,-378.5 \" stroke=\"#000000\"/>\n",
       "<text fill=\"#000000\" font-family=\"Times,serif\" font-size=\"14.00\" text-anchor=\"middle\" x=\"126.5\" y=\"-363.3\">input:</text>\n",
       "<polyline fill=\"none\" points=\"97.5,-355.5 155.5,-355.5 \" stroke=\"#000000\"/>\n",
       "<text fill=\"#000000\" font-family=\"Times,serif\" font-size=\"14.00\" text-anchor=\"middle\" x=\"126.5\" y=\"-340.3\">output:</text>\n",
       "<polyline fill=\"none\" points=\"155.5,-332.5 155.5,-378.5 \" stroke=\"#000000\"/>\n",
       "<text fill=\"#000000\" font-family=\"Times,serif\" font-size=\"14.00\" text-anchor=\"middle\" x=\"224\" y=\"-351.8\">(None, 111, 111, 32)</text>\n",
       "<polyline fill=\"none\" points=\"292.5,-332.5 292.5,-378.5 \" stroke=\"#000000\"/>\n",
       "<text fill=\"#000000\" font-family=\"Times,serif\" font-size=\"14.00\" text-anchor=\"middle\" x=\"347.5\" y=\"-351.8\">(None, 394272)</text>\n",
       "</g>\n",
       "<!-- 140303429340304&#45;&gt;140303429974608 -->\n",
       "<g class=\"edge\" id=\"edge4\">\n",
       "<title>140303429340304-&gt;140303429974608</title>\n",
       "<path d=\"M222,-415.3799C222,-407.1745 222,-397.7679 222,-388.8786\" fill=\"none\" stroke=\"#000000\"/>\n",
       "<polygon fill=\"#000000\" points=\"225.5001,-388.784 222,-378.784 218.5001,-388.784 225.5001,-388.784\" stroke=\"#000000\"/>\n",
       "</g>\n",
       "<!-- 140303429638800 -->\n",
       "<g class=\"node\" id=\"node6\">\n",
       "<title>140303429638800</title>\n",
       "<polygon fill=\"none\" points=\"72,-249.5 72,-295.5 372,-295.5 372,-249.5 72,-249.5\" stroke=\"#000000\"/>\n",
       "<text fill=\"#000000\" font-family=\"Times,serif\" font-size=\"14.00\" text-anchor=\"middle\" x=\"98\" y=\"-280.3\">dense</text>\n",
       "<polyline fill=\"none\" points=\"72,-272.5 124,-272.5 \" stroke=\"#000000\"/>\n",
       "<text fill=\"#000000\" font-family=\"Times,serif\" font-size=\"14.00\" text-anchor=\"middle\" x=\"98\" y=\"-257.3\">Dense</text>\n",
       "<polyline fill=\"none\" points=\"124,-249.5 124,-295.5 \" stroke=\"#000000\"/>\n",
       "<text fill=\"#000000\" font-family=\"Times,serif\" font-size=\"14.00\" text-anchor=\"middle\" x=\"153\" y=\"-280.3\">input:</text>\n",
       "<polyline fill=\"none\" points=\"124,-272.5 182,-272.5 \" stroke=\"#000000\"/>\n",
       "<text fill=\"#000000\" font-family=\"Times,serif\" font-size=\"14.00\" text-anchor=\"middle\" x=\"153\" y=\"-257.3\">output:</text>\n",
       "<polyline fill=\"none\" points=\"182,-249.5 182,-295.5 \" stroke=\"#000000\"/>\n",
       "<text fill=\"#000000\" font-family=\"Times,serif\" font-size=\"14.00\" text-anchor=\"middle\" x=\"237\" y=\"-268.8\">(None, 394272)</text>\n",
       "<polyline fill=\"none\" points=\"292,-249.5 292,-295.5 \" stroke=\"#000000\"/>\n",
       "<text fill=\"#000000\" font-family=\"Times,serif\" font-size=\"14.00\" text-anchor=\"middle\" x=\"332\" y=\"-268.8\">(None, 64)</text>\n",
       "</g>\n",
       "<!-- 140303429974608&#45;&gt;140303429638800 -->\n",
       "<g class=\"edge\" id=\"edge5\">\n",
       "<title>140303429974608-&gt;140303429638800</title>\n",
       "<path d=\"M222,-332.3799C222,-324.1745 222,-314.7679 222,-305.8786\" fill=\"none\" stroke=\"#000000\"/>\n",
       "<polygon fill=\"#000000\" points=\"225.5001,-305.784 222,-295.784 218.5001,-305.784 225.5001,-305.784\" stroke=\"#000000\"/>\n",
       "</g>\n",
       "<!-- 140303429041616 -->\n",
       "<g class=\"node\" id=\"node7\">\n",
       "<title>140303429041616</title>\n",
       "<polygon fill=\"none\" points=\"69.5,-166.5 69.5,-212.5 374.5,-212.5 374.5,-166.5 69.5,-166.5\" stroke=\"#000000\"/>\n",
       "<text fill=\"#000000\" font-family=\"Times,serif\" font-size=\"14.00\" text-anchor=\"middle\" x=\"113\" y=\"-197.3\">activation_1</text>\n",
       "<polyline fill=\"none\" points=\"69.5,-189.5 156.5,-189.5 \" stroke=\"#000000\"/>\n",
       "<text fill=\"#000000\" font-family=\"Times,serif\" font-size=\"14.00\" text-anchor=\"middle\" x=\"113\" y=\"-174.3\">Activation</text>\n",
       "<polyline fill=\"none\" points=\"156.5,-166.5 156.5,-212.5 \" stroke=\"#000000\"/>\n",
       "<text fill=\"#000000\" font-family=\"Times,serif\" font-size=\"14.00\" text-anchor=\"middle\" x=\"185.5\" y=\"-197.3\">input:</text>\n",
       "<polyline fill=\"none\" points=\"156.5,-189.5 214.5,-189.5 \" stroke=\"#000000\"/>\n",
       "<text fill=\"#000000\" font-family=\"Times,serif\" font-size=\"14.00\" text-anchor=\"middle\" x=\"185.5\" y=\"-174.3\">output:</text>\n",
       "<polyline fill=\"none\" points=\"214.5,-166.5 214.5,-212.5 \" stroke=\"#000000\"/>\n",
       "<text fill=\"#000000\" font-family=\"Times,serif\" font-size=\"14.00\" text-anchor=\"middle\" x=\"254.5\" y=\"-185.8\">(None, 64)</text>\n",
       "<polyline fill=\"none\" points=\"294.5,-166.5 294.5,-212.5 \" stroke=\"#000000\"/>\n",
       "<text fill=\"#000000\" font-family=\"Times,serif\" font-size=\"14.00\" text-anchor=\"middle\" x=\"334.5\" y=\"-185.8\">(None, 64)</text>\n",
       "</g>\n",
       "<!-- 140303429638800&#45;&gt;140303429041616 -->\n",
       "<g class=\"edge\" id=\"edge6\">\n",
       "<title>140303429638800-&gt;140303429041616</title>\n",
       "<path d=\"M222,-249.3799C222,-241.1745 222,-231.7679 222,-222.8786\" fill=\"none\" stroke=\"#000000\"/>\n",
       "<polygon fill=\"#000000\" points=\"225.5001,-222.784 222,-212.784 218.5001,-222.784 225.5001,-222.784\" stroke=\"#000000\"/>\n",
       "</g>\n",
       "<!-- 140303429507984 -->\n",
       "<g class=\"node\" id=\"node8\">\n",
       "<title>140303429507984</title>\n",
       "<polygon fill=\"none\" points=\"80.5,-83.5 80.5,-129.5 363.5,-129.5 363.5,-83.5 80.5,-83.5\" stroke=\"#000000\"/>\n",
       "<text fill=\"#000000\" font-family=\"Times,serif\" font-size=\"14.00\" text-anchor=\"middle\" x=\"113\" y=\"-114.3\">dropout</text>\n",
       "<polyline fill=\"none\" points=\"80.5,-106.5 145.5,-106.5 \" stroke=\"#000000\"/>\n",
       "<text fill=\"#000000\" font-family=\"Times,serif\" font-size=\"14.00\" text-anchor=\"middle\" x=\"113\" y=\"-91.3\">Dropout</text>\n",
       "<polyline fill=\"none\" points=\"145.5,-83.5 145.5,-129.5 \" stroke=\"#000000\"/>\n",
       "<text fill=\"#000000\" font-family=\"Times,serif\" font-size=\"14.00\" text-anchor=\"middle\" x=\"174.5\" y=\"-114.3\">input:</text>\n",
       "<polyline fill=\"none\" points=\"145.5,-106.5 203.5,-106.5 \" stroke=\"#000000\"/>\n",
       "<text fill=\"#000000\" font-family=\"Times,serif\" font-size=\"14.00\" text-anchor=\"middle\" x=\"174.5\" y=\"-91.3\">output:</text>\n",
       "<polyline fill=\"none\" points=\"203.5,-83.5 203.5,-129.5 \" stroke=\"#000000\"/>\n",
       "<text fill=\"#000000\" font-family=\"Times,serif\" font-size=\"14.00\" text-anchor=\"middle\" x=\"243.5\" y=\"-102.8\">(None, 64)</text>\n",
       "<polyline fill=\"none\" points=\"283.5,-83.5 283.5,-129.5 \" stroke=\"#000000\"/>\n",
       "<text fill=\"#000000\" font-family=\"Times,serif\" font-size=\"14.00\" text-anchor=\"middle\" x=\"323.5\" y=\"-102.8\">(None, 64)</text>\n",
       "</g>\n",
       "<!-- 140303429041616&#45;&gt;140303429507984 -->\n",
       "<g class=\"edge\" id=\"edge7\">\n",
       "<title>140303429041616-&gt;140303429507984</title>\n",
       "<path d=\"M222,-166.3799C222,-158.1745 222,-148.7679 222,-139.8786\" fill=\"none\" stroke=\"#000000\"/>\n",
       "<polygon fill=\"#000000\" points=\"225.5001,-139.784 222,-129.784 218.5001,-139.784 225.5001,-139.784\" stroke=\"#000000\"/>\n",
       "</g>\n",
       "<!-- 140303429339984 -->\n",
       "<g class=\"node\" id=\"node9\">\n",
       "<title>140303429339984</title>\n",
       "<polygon fill=\"none\" points=\"91,-.5 91,-46.5 353,-46.5 353,-.5 91,-.5\" stroke=\"#000000\"/>\n",
       "<text fill=\"#000000\" font-family=\"Times,serif\" font-size=\"14.00\" text-anchor=\"middle\" x=\"117\" y=\"-31.3\">preds</text>\n",
       "<polyline fill=\"none\" points=\"91,-23.5 143,-23.5 \" stroke=\"#000000\"/>\n",
       "<text fill=\"#000000\" font-family=\"Times,serif\" font-size=\"14.00\" text-anchor=\"middle\" x=\"117\" y=\"-8.3\">Dense</text>\n",
       "<polyline fill=\"none\" points=\"143,-.5 143,-46.5 \" stroke=\"#000000\"/>\n",
       "<text fill=\"#000000\" font-family=\"Times,serif\" font-size=\"14.00\" text-anchor=\"middle\" x=\"172\" y=\"-31.3\">input:</text>\n",
       "<polyline fill=\"none\" points=\"143,-23.5 201,-23.5 \" stroke=\"#000000\"/>\n",
       "<text fill=\"#000000\" font-family=\"Times,serif\" font-size=\"14.00\" text-anchor=\"middle\" x=\"172\" y=\"-8.3\">output:</text>\n",
       "<polyline fill=\"none\" points=\"201,-.5 201,-46.5 \" stroke=\"#000000\"/>\n",
       "<text fill=\"#000000\" font-family=\"Times,serif\" font-size=\"14.00\" text-anchor=\"middle\" x=\"241\" y=\"-19.8\">(None, 64)</text>\n",
       "<polyline fill=\"none\" points=\"281,-.5 281,-46.5 \" stroke=\"#000000\"/>\n",
       "<text fill=\"#000000\" font-family=\"Times,serif\" font-size=\"14.00\" text-anchor=\"middle\" x=\"317\" y=\"-19.8\">(None, 1)</text>\n",
       "</g>\n",
       "<!-- 140303429507984&#45;&gt;140303429339984 -->\n",
       "<g class=\"edge\" id=\"edge8\">\n",
       "<title>140303429507984-&gt;140303429339984</title>\n",
       "<path d=\"M222,-83.3799C222,-75.1745 222,-65.7679 222,-56.8786\" fill=\"none\" stroke=\"#000000\"/>\n",
       "<polygon fill=\"#000000\" points=\"225.5001,-56.784 222,-46.784 218.5001,-56.784 225.5001,-56.784\" stroke=\"#000000\"/>\n",
       "</g>\n",
       "</g>\n",
       "</svg>"
      ],
      "text/plain": [
       "<IPython.core.display.SVG object>"
      ]
     },
     "execution_count": 16,
     "metadata": {},
     "output_type": "execute_result"
    }
   ],
   "source": [
    "SVG(model_to_dot(model, show_shapes=True, dpi=72).create(prog=\"dot\", format=\"svg\"))"
   ]
  },
  {
   "cell_type": "code",
   "execution_count": null,
   "metadata": {
    "colab": {
     "base_uri": "https://localhost:8080/",
     "height": 976
    },
    "id": "nVm3Hga-FT2q",
    "outputId": "f50a343c-afbc-4c70-c726-4d673f804d91"
   },
   "outputs": [
    {
     "data": {
      "image/png": "[encoded data removed]",
      "text/plain": [
       "<IPython.core.display.Image object>"
      ]
     },
     "execution_count": 17,
     "metadata": {},
     "output_type": "execute_result"
    }
   ],
   "source": [
    "plot_model(model, show_shapes=True, to_file=\"network2.png\")"
   ]
  }
 ],
 "metadata": {
  "accelerator": "GPU",
  "colab": {
   "collapsed_sections": [],
   "name": "movie_poster.ipynb",
   "provenance": []
  },
  "kernelspec": {
   "display_name": "Python 3 (ipykernel)",
   "language": "python",
   "name": "python3"
  },
  "language_info": {
   "codemirror_mode": {
    "name": "ipython",
    "version": 3
   },
   "file_extension": ".py",
   "mimetype": "text/x-python",
   "name": "python",
   "nbconvert_exporter": "python",
   "pygments_lexer": "ipython3",
   "version": "3.9.7"
  }
 },
 "nbformat": 4,
 "nbformat_minor": 1
}
